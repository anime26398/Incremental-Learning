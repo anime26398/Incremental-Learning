{
 "cells": [
  {
   "cell_type": "code",
   "execution_count": 1,
   "metadata": {},
   "outputs": [
    {
     "name": "stderr",
     "output_type": "stream",
     "text": [
      "/home/aniruddha/anaconda3/envs/tensorflow/lib/python3.5/site-packages/h5py/__init__.py:36: FutureWarning: Conversion of the second argument of issubdtype from `float` to `np.floating` is deprecated. In future, it will be treated as `np.float64 == np.dtype(float).type`.\n",
      "  from ._conv import register_converters as _register_converters\n",
      "Using TensorFlow backend.\n"
     ]
    }
   ],
   "source": [
    "%matplotlib inline\n",
    "import matplotlib.pyplot as plt\n",
    "import tensorflow as tf\n",
    "import numpy as np\n",
    "from sklearn.metrics import confusion_matrix\n",
    "import time\n",
    "from datetime import timedelta\n",
    "import math\n",
    "from keras.datasets import mnist"
   ]
  },
  {
   "cell_type": "code",
   "execution_count": 2,
   "metadata": {},
   "outputs": [],
   "source": [
    "# Convolutional Layer 1.\n",
    "filter_size1 = 5          # Convolution filters are 5 x 5 pixels.\n",
    "num_filters1 = 16         # There are 16 of these filters.\n",
    "\n",
    "# Convolutional Layer 2.\n",
    "filter_size2 = 5          # Convolution filters are 5 x 5 pixels.\n",
    "num_filters2 = 36         # There are 36 of these filters.\n",
    "\n",
    "# Fully-connected layer.\n",
    "fc_size = 128  "
   ]
  },
  {
   "cell_type": "code",
   "execution_count": 3,
   "metadata": {},
   "outputs": [],
   "source": [
    "from mnist import MNIST\n",
    "data = MNIST(data_dir=\"data/MNIST/\")"
   ]
  },
  {
   "cell_type": "code",
   "execution_count": 4,
   "metadata": {},
   "outputs": [
    {
     "name": "stdout",
     "output_type": "stream",
     "text": [
      "28\n",
      "(28, 28)\n",
      "784\n",
      "6\n",
      "1\n"
     ]
    }
   ],
   "source": [
    "# The number of pixels in each dimension of an image.\n",
    "img_size = data.img_size\n",
    "\n",
    "# The images are stored in one-dimensional arrays of this length.\n",
    "img_size_flat = data.img_size_flat\n",
    "\n",
    "# Tuple with height and width of images used to reshape arrays.\n",
    "img_shape = data.img_shape\n",
    "\n",
    "# Number of classes, one class for each of 10 digits.\n",
    "num_classes = 6\n",
    "\n",
    "# Number of colour channels for the images: 1 channel for gray-scale.\n",
    "num_channels = data.num_channels\n",
    "print(img_size)\n",
    "print(img_shape)\n",
    "print(img_size_flat)\n",
    "print(num_classes)\n",
    "print(num_channels)"
   ]
  },
  {
   "cell_type": "code",
   "execution_count": 5,
   "metadata": {},
   "outputs": [
    {
     "name": "stdout",
     "output_type": "stream",
     "text": [
      "(60000,)\n",
      "(36017, 784)\n",
      "(36017,)\n",
      "(6031, 784)\n",
      "(6031,)\n"
     ]
    }
   ],
   "source": [
    "(X_train, y_train), (X_test, y_test) = mnist.load_data()\n",
    "X_train = X_train.reshape(60000, 784)\n",
    "X_test = X_test.reshape(10000, 784)\n",
    "\n",
    "X_test = X_test.astype('float32')\n",
    "X_train=X_train.astype('float32')\n",
    "print(y_train.shape)\n",
    "\n",
    "X_train05=[]\n",
    "y_train05=[]\n",
    "X_train6=[]\n",
    "y_train6=[]\n",
    "for i in range (0,60000):\n",
    "    if(y_train[i]<6):\n",
    "        X_train05.append(X_train[i])\n",
    "        y_train05.append(y_train[i])\n",
    "    else :\n",
    "        X_train6.append(X_train[i])\n",
    "        y_train6.append(y_train[i])\n",
    "X_train05=np.array(X_train05)\n",
    "y_train05=np.array(y_train05)\n",
    "X_train6=np.array(X_train6)\n",
    "y_train6=np.array(y_train6)\n",
    "\n",
    "print(X_train05.shape)\n",
    "print(y_train05.shape)\n",
    "\n",
    "X_test05=[]\n",
    "y_test05=[]\n",
    "X_test6=[]\n",
    "y_test6=[]\n",
    "for i in range (0,10000):\n",
    "    if(y_test[i]<6):\n",
    "        X_test05.append(X_test[i])\n",
    "        y_test05.append(y_test[i])\n",
    "    else :\n",
    "        X_test6.append(X_test[i])\n",
    "        y_test6.append(y_test[i])\n",
    "X_test05=np.array(X_test05)\n",
    "y_test05=np.array(y_test05)\n",
    "X_test6=np.array(X_test6)\n",
    "y_test6=np.array(y_test6)\n",
    "\n",
    "print(X_test05.shape)\n",
    "print(y_test05.shape)"
   ]
  },
  {
   "cell_type": "code",
   "execution_count": 6,
   "metadata": {},
   "outputs": [],
   "source": [
    "shape1 = [filter_size1, filter_size1, num_channels, num_filters1]\n",
    "shape2 = [filter_size2, filter_size2, num_filters1, num_filters2]\n",
    "\n",
    "wconv1=tf.Variable(tf.truncated_normal(shape1, stddev=0.05), name='wconv1')\n",
    "bconv1=tf.Variable(tf.constant(0.05, shape=[num_filters1]), name='bconv1')\n",
    "\n",
    "wconv2=tf.Variable(tf.truncated_normal(shape2, stddev=0.05), name='wconv2')\n",
    "bconv2=tf.Variable(tf.constant(0.05, shape=[num_filters2]), name='bconv2')\n",
    "\n",
    "wfc1=tf.Variable(tf.truncated_normal(shape=[1764,128], stddev=0.05), name='wfc1')\n",
    "bfc1=tf.Variable(tf.constant(0.05, shape=[128]), name='bfc1')\n",
    "\n",
    "wfc2=tf.Variable(tf.truncated_normal(shape=[128,6], stddev=0.05), name='wfc2')\n",
    "bfc2=tf.Variable(tf.constant(0.05, shape=[6]), name='bfc2')"
   ]
  },
  {
   "cell_type": "code",
   "execution_count": 7,
   "metadata": {},
   "outputs": [],
   "source": [
    "x = tf.placeholder(tf.float32, shape=[None, img_size_flat], name='x')\n",
    "x_image = tf.reshape(x, [-1, img_size, img_size, num_channels], name='x_image')\n",
    "y_true = tf.placeholder(tf.float32, shape=[None, num_classes], name='y_true')\n",
    "y_true_cls = tf.argmax(y_true, axis=1)"
   ]
  },
  {
   "cell_type": "code",
   "execution_count": 8,
   "metadata": {},
   "outputs": [],
   "source": [
    "#creating model \n",
    "layer1 = tf.nn.conv2d(input=x_image,\n",
    "                         filter=wconv1,\n",
    "                         strides=[1, 1, 1, 1],\n",
    "                         padding='SAME', name='l1')\n",
    "layer1+=bconv1\n",
    "layer2 = tf.nn.max_pool(value=layer1,\n",
    "                               ksize=[1, 2, 2, 1],\n",
    "                               strides=[1, 2, 2, 1],\n",
    "                               padding='SAME', name='l2')\n",
    "\n",
    "layer3 = tf.nn.relu(layer2,name='l3')\n",
    "\n",
    "layer4 = tf.nn.conv2d(input=layer3,\n",
    "                         filter=wconv2,\n",
    "                         strides=[1, 1, 1, 1],\n",
    "                         padding='SAME', name='l4')\n",
    "layer4+=bconv2\n",
    "layer5 = tf.nn.max_pool(value=layer4,\n",
    "                               ksize=[1, 2, 2, 1],\n",
    "                               strides=[1, 2, 2, 1],\n",
    "                               padding='SAME', name='l5')\n",
    "\n",
    "layer6 = tf.nn.relu(layer5, name='l6')\n",
    "layer7 = tf.reshape(layer6, [-1, 1764])\n",
    "layer8 = tf.matmul(layer7, wfc1) + bfc1\n",
    "layer9=tf.nn.relu(layer8, name='l9')\n",
    "layer10 = tf.matmul(layer9, wfc2) + bfc2\n",
    "layer11=tf.nn.relu(layer10, name='l11')"
   ]
  },
  {
   "cell_type": "code",
   "execution_count": 9,
   "metadata": {},
   "outputs": [],
   "source": [
    "y_pred = tf.nn.softmax(layer11)\n",
    "y_pred_cls = tf.argmax(y_pred, axis=1)\n",
    "cross_entropy = tf.nn.softmax_cross_entropy_with_logits(logits=layer11,\n",
    "                                                        labels=y_true)\n",
    "cost = tf.reduce_mean(cross_entropy)\n",
    "optimizer = tf.train.AdamOptimizer(learning_rate=1e-4).minimize(cost)\n",
    "correct_prediction = tf.equal(y_pred_cls, y_true_cls)\n",
    "accuracy = tf.reduce_mean(tf.cast(correct_prediction, tf.float32))\n",
    "\n",
    "init_op = tf.global_variables_initializer()\n",
    "train_batch_size = 64"
   ]
  },
  {
   "cell_type": "code",
   "execution_count": 10,
   "metadata": {},
   "outputs": [],
   "source": [
    "from keras.utils import np_utils\n",
    "y_train05 = np_utils.to_categorical(y_train05)\n",
    "y_test05= np_utils.to_categorical(y_test05)\n",
    "y_train6 = np_utils.to_categorical(y_train6)\n",
    "y_test6= np_utils.to_categorical(y_test6)"
   ]
  },
  {
   "cell_type": "code",
   "execution_count": 12,
   "metadata": {},
   "outputs": [
    {
     "name": "stdout",
     "output_type": "stream",
     "text": [
      "Epoch: 1  test accuracy: 0.831\n",
      "0.8084652654004686\n",
      "Epoch: 2  test accuracy: 0.843\n",
      "0.6226834472918421\n",
      "Epoch: 3  test accuracy: 0.845\n",
      "0.596993181470026\n",
      "Epoch: 4  test accuracy: 0.848\n",
      "0.38054037014572684\n",
      "Epoch: 5  test accuracy: 0.848\n",
      "0.28812371223528627\n",
      "Epoch: 6  test accuracy: 0.850\n",
      "0.28147243912533937\n",
      "Epoch: 7  test accuracy: 0.848\n",
      "0.27766485000526314\n",
      "Epoch: 8  test accuracy: 0.849\n",
      "0.2758113247909156\n",
      "Epoch: 9  test accuracy: 0.849\n",
      "0.2741463653266005\n",
      "Epoch: 10  test accuracy: 0.847\n",
      "0.2757125372113495\n",
      "\n",
      "Training complete!\n",
      "0.84695715\n",
      "Model saved in path: /tmp/model.ckpt\n"
     ]
    }
   ],
   "source": [
    "k=0\n",
    "sess=tf.Session()\n",
    "    # initialise the variables\n",
    "sess.run(init_op)\n",
    "batch_size=64\n",
    "total_batch = int(X_train05.shape[0] / batch_size)\n",
    "for epoch in range(10):\n",
    "    avg_cost = 0\n",
    "    k=0\n",
    "    for i in range(total_batch):\n",
    "        batch_x = X_train05[k:k+batch_size,:]\n",
    "        batch_y = y_train05[k:k+batch_size,:]\n",
    "        k+=64\n",
    "        _, c = sess.run([optimizer, cost], \n",
    "                            feed_dict={x: batch_x, y_true: batch_y})\n",
    "        avg_cost += c / total_batch\n",
    "    test_acc = sess.run(accuracy, \n",
    "                       feed_dict={x: X_test05, y_true: y_test05})\n",
    "    print(\"Epoch:\", (epoch + 1),\" test accuracy: {:.3f}\".format(test_acc))\n",
    "    print(avg_cost)\n",
    "print(\"\\nTraining complete!\")\n",
    "saver = tf.train.Saver()\n",
    "print(sess.run(accuracy, feed_dict={x: X_test05, y_true: y_test05}))\n",
    "save_path = saver.save(sess, \"/tmp/model.ckpt\")\n",
    "print(\"Model saved in path: %s\" % save_path)\n",
    "    "
   ]
  },
  {
   "cell_type": "code",
   "execution_count": 13,
   "metadata": {},
   "outputs": [
    {
     "data": {
      "text/plain": [
       "'test_model'"
      ]
     },
     "execution_count": 13,
     "metadata": {},
     "output_type": "execute_result"
    }
   ],
   "source": [
    "saver = tf.train.Saver()\n",
    "saver.save(sess, 'test_model')"
   ]
  },
  {
   "cell_type": "code",
   "execution_count": 16,
   "metadata": {},
   "outputs": [
    {
     "name": "stdout",
     "output_type": "stream",
     "text": [
      "[0.03537654 0.04211676 0.04512154 0.05142858 0.03888073 0.04180032\n",
      " 0.04896171 0.03315908 0.04257441 0.05490109 0.04544467 0.04622808\n",
      " 0.04538419 0.05079068 0.04108493 0.04909592]\n"
     ]
    }
   ],
   "source": [
    "a=bconv1.eval(session=sess)\n",
    "print(a)"
   ]
  }
 ],
 "metadata": {
  "kernelspec": {
   "display_name": "Python 3",
   "language": "python",
   "name": "python3"
  },
  "language_info": {
   "codemirror_mode": {
    "name": "ipython",
    "version": 3
   },
   "file_extension": ".py",
   "mimetype": "text/x-python",
   "name": "python",
   "nbconvert_exporter": "python",
   "pygments_lexer": "ipython3",
   "version": "3.5.4"
  }
 },
 "nbformat": 4,
 "nbformat_minor": 2
}
